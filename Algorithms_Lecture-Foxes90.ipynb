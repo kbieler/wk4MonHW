{
 "cells": [
  {
   "cell_type": "markdown",
   "metadata": {},
   "source": [
    "# Algorithms, Binary Search & Linked Lists"
   ]
  },
  {
   "cell_type": "markdown",
   "metadata": {},
   "source": [
    "## Tasks Today:\n",
    " \n",
    "1) <b>In-Place Algorithms</b> <br>\n",
    " &nbsp;&nbsp;&nbsp;&nbsp; a) Syntax <br>\n",
    " &nbsp;&nbsp;&nbsp;&nbsp; a) Out of Place Algorithm <br>\n",
    " &nbsp;&nbsp;&nbsp;&nbsp; b) In-Class Exercise #1 <br>\n",
    "2) <b>Two Pointers</b> <br>\n",
    "3) <b>Linked Lists</b> <br>\n",
    "4) <b>Merge Sort</b> <br>\n",
    " &nbsp;&nbsp;&nbsp;&nbsp; a) Video on Algorithms <br>\n",
    " &nbsp;&nbsp;&nbsp;&nbsp; b) How it Works <br>\n",
    "5) <b>Exercises</b> <br>\n",
    " &nbsp;&nbsp;&nbsp;&nbsp; a) Exercise #1 - Reverse a List in Place Using an In-Place Algorithm <br>\n",
    " &nbsp;&nbsp;&nbsp;&nbsp; b) Exercise #2 - Find Distinct Words <br>\n",
    " &nbsp;&nbsp;&nbsp;&nbsp; c) Exercise #3 - Write a program to implement a Linear Search Algorithm. <br>"
   ]
  },
  {
   "cell_type": "markdown",
   "metadata": {},
   "source": [
    "## In-Place Algorithms"
   ]
  },
  {
   "cell_type": "markdown",
   "metadata": {},
   "source": [
    "#### Syntax"
   ]
  },
  {
   "cell_type": "code",
   "execution_count": 1,
   "metadata": {},
   "outputs": [
    {
     "name": "stdout",
     "output_type": "stream",
     "text": [
      "before swap: ['Ruben', 'Kyle', 'John']\n",
      "after swap: ['John', 'Kyle', 'Ruben']\n"
     ]
    }
   ],
   "source": [
    "#An in-place algorithm modifies the original data structure (often directly)\n",
    "#switching the places of values within an ordered data structure\n",
    "# is a swapping algorithm\n",
    "#at it's simplest, that means swapping the index locatin of two values\n",
    "    #which can be done using multiple varible assignment\n",
    "    # a = <a_value>\n",
    "    # b = <b_value>\n",
    "    # we can swap the values of a and b with multiple variable assignment\n",
    "    # a, b = b, a\n",
    "        #the result will be: a = <b_value>, b = <a_value>\n",
    "\n",
    "        #using that concept of multiple var assignment we can creat a simple in-place swapping algo\n",
    "        \n",
    "def swap(alist, x, y):\n",
    "    \"\"\"accept a list and two index numbers, swap the order of the values at those indexes\"\"\"\n",
    "    alist[x], alist[y] = alist[y], alist[x]\n",
    "    \n",
    "mylist = ['Ruben', 'Kyle', 'John']\n",
    "print(f'before swap: {mylist}')\n",
    "swap(mylist, 0, 2)\n",
    "print(f'after swap: {mylist}')\n",
    "\n",
    "#notice there is no variable redefinition - we're still looking at the same original 'mylist'"
   ]
  },
  {
   "cell_type": "markdown",
   "metadata": {},
   "source": [
    "#### Out of Place Algorithm"
   ]
  },
  {
   "cell_type": "code",
   "execution_count": 2,
   "metadata": {},
   "outputs": [
    {
     "name": "stdout",
     "output_type": "stream",
     "text": [
      "['John', 'Kyle', 'Ruben']\n",
      "['John', 'Kyle', 'Ruben']\n",
      "original before revrse: ['John', 'Kyle', 'Ruben']\n",
      "original after reverse: ['John', 'Kyle', 'Ruben']\n",
      "new reversed version: ['Ruben', 'Kyle', 'John']\n"
     ]
    }
   ],
   "source": [
    "#an example of an out of place algo - reversing a list entirely using list slicing\n",
    "#or list slicing in general\n",
    "\n",
    "#a simple out of plave algo- reversing a list with slicing\n",
    "print(mylist)\n",
    "mylist[::-1] # reverse the list using slicing\n",
    "print(mylist)\n",
    "#nothing changed above!\n",
    "    #reversing the list usuing slicing creates a modified copy of the original\n",
    "    #it doesn't modify the original\n",
    "    #therefore if we want to work with the modifieds copy going forward, we must creat a new variable for it\n",
    "    \n",
    "print(f'original before revrse: {mylist}')\n",
    "reversecopy = mylist[::-1]\n",
    "print(f'original after reverse: {mylist}')\n",
    "print(f'new reversed version: {reversecopy}')\n"
   ]
  },
  {
   "cell_type": "code",
   "execution_count": 5,
   "metadata": {},
   "outputs": [
    {
     "name": "stdout",
     "output_type": "stream",
     "text": [
      "original before sort: ['dog', 'cat', 'fish', 'fox', 'tiger']\n",
      "original after sort: ['dog', 'cat', 'fish', 'fox', 'tiger']\n",
      "new sorteed version, aka return value: ['cat', 'dog', 'fish', 'fox', 'tiger']\n"
     ]
    }
   ],
   "source": [
    "# a classic example of in-place vs out of place : sorted() vs, sort()\n",
    "mylist2 = ['dog', 'cat', 'fish', 'fox', 'tiger']\n",
    "print(f'original before sort: {mylist2}')\n",
    "sortedcopy2 = sorted(mylist2)\n",
    "print(f'original after sort: {mylist2}')\n",
    "print(f'new sorteed version, aka return value: {sortedcopy}')\n"
   ]
  },
  {
   "cell_type": "markdown",
   "metadata": {},
   "source": [
    "#### In-Class Exercise #1 <br>\n",
    "<p>Write a function that takes in four arguments (list, index1, index2, index3), and swaps those three positions in the list passed in.</p>"
   ]
  },
  {
   "cell_type": "code",
   "execution_count": 19,
   "metadata": {},
   "outputs": [
    {
     "name": "stdout",
     "output_type": "stream",
     "text": [
      "[6, 2, 4, 8, 3, 4, 10]\n",
      "None\n"
     ]
    }
   ],
   "source": [
    "#write a function that takes in one argument (a_list), and reverses that list in-place\n",
    "#need indexing and multiple variable assignment\n",
    "this_list = [10, 4, 3, 8, 4, 2, 6]\n",
    "\n",
    "#def rev_list(alist):\n",
    "   # alist = alist[::-1]\n",
    "   # return alist\n",
    "#rev_list(this_list)\n",
    "\n",
    "leng =(len(this_list))\n",
    "\n",
    "#def inplace_rev(lista):\n",
    "   # lista[0], lista[1], lista[2], lista[3], lista[4], lista[5], lista[6] = lista[-1], lista[-2], lista[-3], lista[-4], lista[-5], lista[-6], lista[-7]\n",
    "   # return lista\n",
    "#print(inplace_rev(this_list))\n",
    "\n",
    "def rewind(x):\n",
    "       for i in range(int(leng/2)):\n",
    "            n = x[i]\n",
    "        x[i] = x[leng-i-1]\n",
    "        x[leng-i-1] = n\n",
    "        print(x)\n",
    "    \n",
    "rewind(this_list)\n",
    "\n",
    "def reverseInplace(y):\n",
    "    for i in range(len(y)//2):\n",
    "        y[i], y[-(i+1)] = y[-(i+1)], y[i]\n",
    "print(reverseInplace(this_list))"
   ]
  },
  {
   "cell_type": "markdown",
   "metadata": {},
   "source": [
    "## Two Pointers"
   ]
  },
  {
   "cell_type": "markdown",
   "metadata": {},
   "source": [
    "#### Syntax"
   ]
  },
  {
   "cell_type": "code",
   "execution_count": 27,
   "metadata": {},
   "outputs": [
    {
     "name": "stdout",
     "output_type": "stream",
     "text": [
      "[10, 4, 3, 8, 4, 2, 6]\n"
     ]
    }
   ],
   "source": [
    "#POINTER just some variable with an integer value (usually) that is set up to keep track of index numbers as\n",
    "# you loop or perform an algorithm/process\n",
    "\n",
    "#the primary advantage of using a pointer is additional control over process of looping \n",
    "#pointers are most commonly used with while loops\n",
    "\n",
    "def switcharoo(alist):\n",
    "    i = 0 #a pointer\n",
    "    while i < len(alist)//2:\n",
    "        alist[i], alist[-(i+1)] = alist[-(i+1)], alist[i]\n",
    "        i += 1\n",
    "switcharoo(this_list)\n",
    "print(this_list)\n",
    "#same effect as the above function, just a diff approach\n",
    "    #because we have control over the way the loop steps, we can pick slightly diff behavior for our liip\n",
    "    #swap middle values only? (ignore the end values)"
   ]
  },
  {
   "cell_type": "code",
   "execution_count": 26,
   "metadata": {},
   "outputs": [
    {
     "name": "stdout",
     "output_type": "stream",
     "text": [
      "[6, 2, 4, 8, 3, 4, 10]\n"
     ]
    }
   ],
   "source": [
    "#two pointers\n",
    "#same concept as a single pointer but we can independently move the two pointers\n",
    "\n",
    "def switcharoo(alist):\n",
    "    left = 0 #a pointer\n",
    "    right = len(alist) -1\n",
    "    while left < right:\n",
    "        alist[left], alist[right] = alist[right], alist[left]\n",
    "        left +=1\n",
    "        right -= 1\n",
    "switcharoo(this_list)\n",
    "print(this_list)"
   ]
  },
  {
   "cell_type": "markdown",
   "metadata": {},
   "source": [
    "#### Video of Algorithms <br>\n",
    "<p>Watch the video about algorithms.</p>\n",
    "\n",
    "https://www.youtube.com/watch?v=Q9HjeFD62Uk\n",
    "\n",
    "https://www.youtube.com/watch?v=kPRA0W1kECg\n",
    "\n",
    "https://www.youtube.com/watch?v=ZZuD6iUe3Pc"
   ]
  },
  {
   "cell_type": "markdown",
   "metadata": {},
   "source": [
    "# Sorting Algorithms"
   ]
  },
  {
   "cell_type": "markdown",
   "metadata": {},
   "source": [
    "#### Bubble Sort\n",
    "\n",
    "Worst Case: O(n^2) Time - O(1) Space"
   ]
  },
  {
   "cell_type": "code",
   "execution_count": 29,
   "metadata": {},
   "outputs": [
    {
     "name": "stdout",
     "output_type": "stream",
     "text": [
      "[1, 3, 5, 7, 12, 20, 37, 42, 72]\n"
     ]
    }
   ],
   "source": [
    "# https://visualgo.net/en/sorting?slide=1\n",
    "\n",
    "#time complexity: worst case: O(n^2), avg case: (nLogn), best case(n) -linear\n",
    "#big-O notation: worst case, quadratic\n",
    "#theta notation: avg case, linear logarithmic\n",
    "#omega notation: best case, (already sorted), linear\n",
    "\n",
    "def bubbleSort(arr):\n",
    "    #flag variable - True if we think the list is sorted, False if the list is not yet sorted\n",
    "    unSorted = True\n",
    "    while unSorted:\n",
    "        #assume that the list is sorted already\n",
    "        unSorted = False\n",
    "        #perform our actual inner liip with comparisons and check/confirm whether or not this is sorted\n",
    "        for i in range(len(arr)-1):\n",
    "            if arr[i] > arr[i+1]: # check if values are out of order\n",
    "                arr[i], arr[i+1] = arr[i+1], arr[i]\n",
    "                unSorted = True #if a swap occured, there are potentially more swaps to occur\n",
    "                \n",
    "mylist = [5, 3, 12, 37, 7, 72, 20, 1, 42]\n",
    "bubbleSort(mylist)\n",
    "print(mylist)\n",
    "                "
   ]
  },
  {
   "cell_type": "markdown",
   "metadata": {},
   "source": [
    "##### Insertion Sort\n",
    "\n",
    "Worst Case: O(n^2) time - O(1)space"
   ]
  },
  {
   "cell_type": "code",
   "execution_count": 31,
   "metadata": {},
   "outputs": [
    {
     "name": "stdout",
     "output_type": "stream",
     "text": [
      "[1, 3, 5, 7, 12, 20, 37, 42, 72]\n"
     ]
    }
   ],
   "source": [
    "def insertionSort(arr):\n",
    "    #outer for loop- all values except the first in the list\n",
    "    for i in range(1, len(arr)):\n",
    "        j = i #start pointer j at the index we're pulling the value out of (holds index place for value being compared)\n",
    "        # j is a pointer starting at index i where we 'extracted' a value\n",
    "        #j will move toward the start of the list as we swap values\n",
    "        while j > 0 and arr[j] < arr[j-1]:\n",
    "            arr[j], arr[j-1] = arr[j-1], arr[j]\n",
    "            j -= 1 #move the pointer to do the next comparison\n",
    "\n",
    "            \n",
    "mylist = [5, 3, 12, 37, 7, 72, 20, 1, 42]\n",
    "insertionSort(mylist)\n",
    "print(mylist)            \n",
    "    "
   ]
  },
  {
   "cell_type": "markdown",
   "metadata": {},
   "source": [
    "## Merge Sort"
   ]
  },
  {
   "cell_type": "markdown",
   "metadata": {},
   "source": [
    "#### How it Works"
   ]
  },
  {
   "cell_type": "code",
   "execution_count": 35,
   "metadata": {},
   "outputs": [
    {
     "name": "stdout",
     "output_type": "stream",
     "text": [
      "[5, 3, 12, 37, 7, 72, 20, 1, 42]\n",
      "Splitting... [5, 3, 12, 37, 7, 72, 20, 1, 42]\n",
      "Splitting... [5, 3, 12, 37]\n",
      "Splitting... [5, 3]\n",
      "Splitting... [5]\n"
     ]
    },
    {
     "ename": "UnboundLocalError",
     "evalue": "local variable 'lefthalf' referenced before assignment",
     "output_type": "error",
     "traceback": [
      "\u001b[0;31m---------------------------------------------------------------------------\u001b[0m",
      "\u001b[0;31mUnboundLocalError\u001b[0m                         Traceback (most recent call last)",
      "\u001b[0;32m/var/folders/vf/_v4f2__966ggh5dys96jcn880000gn/T/ipykernel_13331/792111386.py\u001b[0m in \u001b[0;36m<module>\u001b[0;34m\u001b[0m\n\u001b[1;32m     51\u001b[0m \u001b[0;34m\u001b[0m\u001b[0m\n\u001b[1;32m     52\u001b[0m \u001b[0mprint\u001b[0m\u001b[0;34m(\u001b[0m\u001b[0mmylist\u001b[0m\u001b[0;34m)\u001b[0m\u001b[0;34m\u001b[0m\u001b[0;34m\u001b[0m\u001b[0m\n\u001b[0;32m---> 53\u001b[0;31m \u001b[0mmergeSort\u001b[0m\u001b[0;34m(\u001b[0m\u001b[0mmylist\u001b[0m\u001b[0;34m)\u001b[0m\u001b[0;34m\u001b[0m\u001b[0;34m\u001b[0m\u001b[0m\n\u001b[0m\u001b[1;32m     54\u001b[0m \u001b[0mprint\u001b[0m\u001b[0;34m(\u001b[0m\u001b[0mmylist\u001b[0m\u001b[0;34m)\u001b[0m\u001b[0;34m\u001b[0m\u001b[0;34m\u001b[0m\u001b[0m\n",
      "\u001b[0;32m/var/folders/vf/_v4f2__966ggh5dys96jcn880000gn/T/ipykernel_13331/792111386.py\u001b[0m in \u001b[0;36mmergeSort\u001b[0;34m(arr)\u001b[0m\n\u001b[1;32m     22\u001b[0m         \u001b[0mrighthalf\u001b[0m \u001b[0;34m=\u001b[0m \u001b[0marr\u001b[0m\u001b[0;34m[\u001b[0m\u001b[0mlen\u001b[0m\u001b[0;34m(\u001b[0m\u001b[0marr\u001b[0m\u001b[0;34m)\u001b[0m\u001b[0;34m//\u001b[0m\u001b[0;36m2\u001b[0m\u001b[0;34m:\u001b[0m\u001b[0;34m]\u001b[0m\u001b[0;34m\u001b[0m\u001b[0;34m\u001b[0m\u001b[0m\n\u001b[1;32m     23\u001b[0m     \u001b[0;31m#recursively call mergeSort to perform all of our merges/creation of partitions\u001b[0m\u001b[0;34m\u001b[0m\u001b[0;34m\u001b[0m\u001b[0m\n\u001b[0;32m---> 24\u001b[0;31m     \u001b[0mmergeSort\u001b[0m\u001b[0;34m(\u001b[0m\u001b[0mlefthalf\u001b[0m\u001b[0;34m)\u001b[0m\u001b[0;34m\u001b[0m\u001b[0;34m\u001b[0m\u001b[0m\n\u001b[0m\u001b[1;32m     25\u001b[0m     \u001b[0mmergeSort\u001b[0m\u001b[0;34m(\u001b[0m\u001b[0mrighthalf\u001b[0m\u001b[0;34m)\u001b[0m\u001b[0;34m\u001b[0m\u001b[0;34m\u001b[0m\u001b[0m\n\u001b[1;32m     26\u001b[0m     \u001b[0;31m#steps 2-3: comparisons and merging partitions\u001b[0m\u001b[0;34m\u001b[0m\u001b[0;34m\u001b[0m\u001b[0m\n",
      "\u001b[0;32m/var/folders/vf/_v4f2__966ggh5dys96jcn880000gn/T/ipykernel_13331/792111386.py\u001b[0m in \u001b[0;36mmergeSort\u001b[0;34m(arr)\u001b[0m\n\u001b[1;32m     22\u001b[0m         \u001b[0mrighthalf\u001b[0m \u001b[0;34m=\u001b[0m \u001b[0marr\u001b[0m\u001b[0;34m[\u001b[0m\u001b[0mlen\u001b[0m\u001b[0;34m(\u001b[0m\u001b[0marr\u001b[0m\u001b[0;34m)\u001b[0m\u001b[0;34m//\u001b[0m\u001b[0;36m2\u001b[0m\u001b[0;34m:\u001b[0m\u001b[0;34m]\u001b[0m\u001b[0;34m\u001b[0m\u001b[0;34m\u001b[0m\u001b[0m\n\u001b[1;32m     23\u001b[0m     \u001b[0;31m#recursively call mergeSort to perform all of our merges/creation of partitions\u001b[0m\u001b[0;34m\u001b[0m\u001b[0;34m\u001b[0m\u001b[0m\n\u001b[0;32m---> 24\u001b[0;31m     \u001b[0mmergeSort\u001b[0m\u001b[0;34m(\u001b[0m\u001b[0mlefthalf\u001b[0m\u001b[0;34m)\u001b[0m\u001b[0;34m\u001b[0m\u001b[0;34m\u001b[0m\u001b[0m\n\u001b[0m\u001b[1;32m     25\u001b[0m     \u001b[0mmergeSort\u001b[0m\u001b[0;34m(\u001b[0m\u001b[0mrighthalf\u001b[0m\u001b[0;34m)\u001b[0m\u001b[0;34m\u001b[0m\u001b[0;34m\u001b[0m\u001b[0m\n\u001b[1;32m     26\u001b[0m     \u001b[0;31m#steps 2-3: comparisons and merging partitions\u001b[0m\u001b[0;34m\u001b[0m\u001b[0;34m\u001b[0m\u001b[0m\n",
      "\u001b[0;32m/var/folders/vf/_v4f2__966ggh5dys96jcn880000gn/T/ipykernel_13331/792111386.py\u001b[0m in \u001b[0;36mmergeSort\u001b[0;34m(arr)\u001b[0m\n\u001b[1;32m     22\u001b[0m         \u001b[0mrighthalf\u001b[0m \u001b[0;34m=\u001b[0m \u001b[0marr\u001b[0m\u001b[0;34m[\u001b[0m\u001b[0mlen\u001b[0m\u001b[0;34m(\u001b[0m\u001b[0marr\u001b[0m\u001b[0;34m)\u001b[0m\u001b[0;34m//\u001b[0m\u001b[0;36m2\u001b[0m\u001b[0;34m:\u001b[0m\u001b[0;34m]\u001b[0m\u001b[0;34m\u001b[0m\u001b[0;34m\u001b[0m\u001b[0m\n\u001b[1;32m     23\u001b[0m     \u001b[0;31m#recursively call mergeSort to perform all of our merges/creation of partitions\u001b[0m\u001b[0;34m\u001b[0m\u001b[0;34m\u001b[0m\u001b[0m\n\u001b[0;32m---> 24\u001b[0;31m     \u001b[0mmergeSort\u001b[0m\u001b[0;34m(\u001b[0m\u001b[0mlefthalf\u001b[0m\u001b[0;34m)\u001b[0m\u001b[0;34m\u001b[0m\u001b[0;34m\u001b[0m\u001b[0m\n\u001b[0m\u001b[1;32m     25\u001b[0m     \u001b[0mmergeSort\u001b[0m\u001b[0;34m(\u001b[0m\u001b[0mrighthalf\u001b[0m\u001b[0;34m)\u001b[0m\u001b[0;34m\u001b[0m\u001b[0;34m\u001b[0m\u001b[0m\n\u001b[1;32m     26\u001b[0m     \u001b[0;31m#steps 2-3: comparisons and merging partitions\u001b[0m\u001b[0;34m\u001b[0m\u001b[0;34m\u001b[0m\u001b[0m\n",
      "\u001b[0;32m/var/folders/vf/_v4f2__966ggh5dys96jcn880000gn/T/ipykernel_13331/792111386.py\u001b[0m in \u001b[0;36mmergeSort\u001b[0;34m(arr)\u001b[0m\n\u001b[1;32m     22\u001b[0m         \u001b[0mrighthalf\u001b[0m \u001b[0;34m=\u001b[0m \u001b[0marr\u001b[0m\u001b[0;34m[\u001b[0m\u001b[0mlen\u001b[0m\u001b[0;34m(\u001b[0m\u001b[0marr\u001b[0m\u001b[0;34m)\u001b[0m\u001b[0;34m//\u001b[0m\u001b[0;36m2\u001b[0m\u001b[0;34m:\u001b[0m\u001b[0;34m]\u001b[0m\u001b[0;34m\u001b[0m\u001b[0;34m\u001b[0m\u001b[0m\n\u001b[1;32m     23\u001b[0m     \u001b[0;31m#recursively call mergeSort to perform all of our merges/creation of partitions\u001b[0m\u001b[0;34m\u001b[0m\u001b[0;34m\u001b[0m\u001b[0m\n\u001b[0;32m---> 24\u001b[0;31m     \u001b[0mmergeSort\u001b[0m\u001b[0;34m(\u001b[0m\u001b[0mlefthalf\u001b[0m\u001b[0;34m)\u001b[0m\u001b[0;34m\u001b[0m\u001b[0;34m\u001b[0m\u001b[0m\n\u001b[0m\u001b[1;32m     25\u001b[0m     \u001b[0mmergeSort\u001b[0m\u001b[0;34m(\u001b[0m\u001b[0mrighthalf\u001b[0m\u001b[0;34m)\u001b[0m\u001b[0;34m\u001b[0m\u001b[0;34m\u001b[0m\u001b[0m\n\u001b[1;32m     26\u001b[0m     \u001b[0;31m#steps 2-3: comparisons and merging partitions\u001b[0m\u001b[0;34m\u001b[0m\u001b[0;34m\u001b[0m\u001b[0m\n",
      "\u001b[0;31mUnboundLocalError\u001b[0m: local variable 'lefthalf' referenced before assignment"
     ]
    }
   ],
   "source": [
    "#more efficient in worst case than bubble or insertion sort\n",
    "# there are multiple ways to code a mergesort algo\n",
    "# we'll be looking at a classic recursive implementation\n",
    "\n",
    "#step1: split every item into its own partition recursively\n",
    "#step2: from left to right, merge partitions together\n",
    "#step3: while merging partitions, place values into the correct position within the partitions\n",
    "#step4: continue steps 2-3 until all partitions have been merged back into one whole\n",
    "\n",
    "#advantage - merge sort is more efficient in the worst case scenario\n",
    "#o(nLogn) theta(nLogn) omega(nLogn)\n",
    "#ALL cases linear logarithmic\n",
    "#merge sort does use some additional memory - linear space complexity\n",
    "\n",
    "mylist = [5, 3, 12, 37, 7, 72, 20, 1, 42]\n",
    "\n",
    "def mergeSort(arr):\n",
    "    print('Splitting...', arr)\n",
    "    #step 1: splitting the array\n",
    "    if len(arr) > 1:\n",
    "        lefthalf = arr[:len(arr)//2]\n",
    "        righthalf = arr[len(arr)//2:]\n",
    "    #recursively call mergeSort to perform all of our merges/creation of partitions\n",
    "    mergeSort(lefthalf)\n",
    "    mergeSort(righthalf)\n",
    "    #steps 2-3: comparisons and merging partitions\n",
    "    #set up pointers:\n",
    "    i = 0 #pointer for left half\n",
    "    j = 0 #pointer for right half\n",
    "    k = 0 #pointer for main array\n",
    "    #if we have values left in both partitions\n",
    "    while i < len(lefthalf) and j < len(righthalf):\n",
    "        if lefthalf[i] < righthalf[j]:\n",
    "            arr[k] = lefthalf[i]\n",
    "            i = i+1\n",
    "            k = k+1\n",
    "        else:\n",
    "            arr[k] = righthalf[j]\n",
    "            j = j+1\n",
    "            k = k+1\n",
    "        #only have values left in the lefthalf\n",
    "    while i < len(lefthalf):\n",
    "        arr[k] = lefthalf[i]\n",
    "        i = i+1\n",
    "        k = k+1\n",
    "    while j < len(righthalf):\n",
    "        arr[k] = righthalf[j]\n",
    "        j = j+1\n",
    "        k = k+1\n",
    "    print('Merging: ', arr)\n",
    "\n",
    "print(mylist)\n",
    "mergeSort(mylist)\n",
    "print(mylist)"
   ]
  },
  {
   "cell_type": "markdown",
   "metadata": {},
   "source": [
    "# Binary Search\n",
    "\n",
    "The Binary Search algorithm works by finding the number in the middle of a given array and comparing it to the target. Given that the array is sorted\n",
    "\n",
    "* The worst case run time for this algorithm is `O(log(n))`"
   ]
  },
  {
   "cell_type": "code",
   "execution_count": 59,
   "metadata": {},
   "outputs": [
    {
     "name": "stdout",
     "output_type": "stream",
     "text": [
      "[8, 26, 30, 30, 35, 39, 42, 44, 50, 51, 52, 54, 65, 65, 67, 71, 77, 86, 96, 100]\n"
     ]
    },
    {
     "data": {
      "text/plain": [
       "'THe index of 35 is 4. Steps taken: 2'"
      ]
     },
     "execution_count": 59,
     "metadata": {},
     "output_type": "execute_result"
    }
   ],
   "source": [
    "#binary search only works on a sorted array!\n",
    "\n",
    "from random import randint\n",
    "#make a list of random numbers\n",
    "nums = sorted([randint(0,100) for i in range(20)])\n",
    "print(nums)\n",
    "\n",
    "def binarySearch(arr, target):\n",
    "    left = 0\n",
    "    right = len(arr)-1\n",
    "    steps = 0 #counts total number of steps (not part of the functionality of the algo)\n",
    "    while left <= right: #while we still have values to check\n",
    "        steps += 1\n",
    "        mid_index = (left+right)//2\n",
    "        if target == arr[mid_index]:\n",
    "            return f'The index of {target} is {mid_index}. Steps taken: {steps}'\n",
    "        elif target > arr[mid_index]:\n",
    "            #target greater than middle value\n",
    "            left = mid_index +1\n",
    "        else:\n",
    "            right = mid_index -1\n",
    "    return f'The value {target} is not present in the list. Steps taken: {steps}.'\n",
    "\n",
    "binarySearch(nums, 35)"
   ]
  },
  {
   "cell_type": "markdown",
   "metadata": {},
   "source": [
    "# Exercises"
   ]
  },
  {
   "cell_type": "markdown",
   "metadata": {},
   "source": [
    "### Exercise #1 <br>\n",
    "<p>Reverse the list below in-place using an in-place algorithm.<br>For extra credit: Reverse the strings at the same time.</p>"
   ]
  },
  {
   "cell_type": "code",
   "execution_count": 82,
   "metadata": {},
   "outputs": [
    {
     "name": "stdout",
     "output_type": "stream",
     "text": [
      "['.', 'sentence', 'a', 'is', 'this']\n"
     ]
    }
   ],
   "source": [
    "words = ['this' , 'is', 'a', 'sentence', '.']\n",
    "\n",
    "def switcharoo(alist):\n",
    "    i = 0 #a pointer\n",
    "    while i < len(alist)//2:\n",
    "        alist[i], alist[-(i+1)] = alist[-(i+1)], alist[i]\n",
    "        i += 1\n",
    "switcharoo(words)\n",
    "print(words)\n"
   ]
  },
  {
   "cell_type": "markdown",
   "metadata": {},
   "source": [
    "### Exercise #2 <br>\n",
    "<p>Create a function that counts how many distinct words are in the string below, then outputs a dictionary with the words as the key and the value as the amount of times that word appears in the string.<br>Should output:<br>{'a': 5,<br>\n",
    " 'abstract': 1,<br>\n",
    " 'an': 3,<br>\n",
    " 'array': 2, ... etc...</p>"
   ]
  },
  {
   "cell_type": "code",
   "execution_count": 84,
   "metadata": {},
   "outputs": [
    {
     "data": {
      "text/plain": [
       "{'abstract': 1,\n",
       " 'in': 1,\n",
       " 'buckets': 1,\n",
       " 'associative': 1,\n",
       " 'from': 1,\n",
       " 'which': 2,\n",
       " 'to': 2,\n",
       " 'into': 1,\n",
       " 'computing,': 1,\n",
       " 'type,': 1,\n",
       " 'array': 2,\n",
       " 'table': 2,\n",
       " 'desired': 1,\n",
       " 'the': 1,\n",
       " 'that': 1,\n",
       " 'uses': 1,\n",
       " 'index': 1,\n",
       " 'is': 1,\n",
       " 'map': 2,\n",
       " 'a': 5,\n",
       " 'function': 1,\n",
       " 'or': 1,\n",
       " 'data': 2,\n",
       " 'implements': 1,\n",
       " 'keys': 1,\n",
       " 'slots': 1,\n",
       " 'found': 1,\n",
       " 'be': 1,\n",
       " 'hash': 4,\n",
       " 'of': 1,\n",
       " 'can': 2,\n",
       " 'structure': 2,\n",
       " 'value': 1,\n",
       " 'values.': 1,\n",
       " 'an': 3,\n",
       " 'compute': 1}"
      ]
     },
     "execution_count": 84,
     "metadata": {},
     "output_type": "execute_result"
    }
   ],
   "source": [
    "a_text = 'In computing, a hash table hash map is a data structure which implements an associative array abstract data type, a structure that can map keys to values. A hash table uses a hash function to compute an index into an array of buckets or slots from which the desired value can be found'\n",
    "\n",
    "def wordy(words):\n",
    "    word_dict = {}\n",
    "    words = words.lower()\n",
    "    split_words = words.split()\n",
    "    ea_word = set(split_words)\n",
    "    for words in ea_word:\n",
    "        word_dict[words] = split_words.count(words)\n",
    "    return word_dict\n",
    "  \n",
    "wordy(a_text)    "
   ]
  },
  {
   "cell_type": "markdown",
   "metadata": {},
   "source": [
    "## Exercise #3\n",
    "\n",
    "Write a program to implement a Linear Search Algorithm. Also in a comment, write the Time Complexity of the following algorithm.\n",
    "\n",
    "#### Hint: Linear Searching will require searching a list for a given number. "
   ]
  },
  {
   "cell_type": "code",
   "execution_count": 70,
   "metadata": {},
   "outputs": [
    {
     "name": "stdout",
     "output_type": "stream",
     "text": [
      "6\n"
     ]
    }
   ],
   "source": [
    "#from random import randint\n",
    "#nums = sorted([randint(0,50) for i in range(10)])\n",
    "#print(nums)\n",
    "nums = [4, 15, 19, 26, 29, 32, 35, 43, 47, 48]\n",
    "given_n = 35\n",
    "\n",
    "def l_search(alist, anum):\n",
    "    for i in range(len(alist)):\n",
    "        if alist[i] == anum:\n",
    "            return i\n",
    "    \n",
    "print(l_search(nums, given_n))\n",
    "\n",
    "#Time Complexity is linear - at worst, it takes 10 steps to search all 10 items in the list\n"
   ]
  },
  {
   "cell_type": "code",
   "execution_count": null,
   "metadata": {},
   "outputs": [],
   "source": []
  }
 ],
 "metadata": {
  "kernelspec": {
   "display_name": "Python 3 (ipykernel)",
   "language": "python",
   "name": "python3"
  },
  "language_info": {
   "codemirror_mode": {
    "name": "ipython",
    "version": 3
   },
   "file_extension": ".py",
   "mimetype": "text/x-python",
   "name": "python",
   "nbconvert_exporter": "python",
   "pygments_lexer": "ipython3",
   "version": "3.9.7"
  }
 },
 "nbformat": 4,
 "nbformat_minor": 2
}
